{
 "cells": [
  {
   "cell_type": "code",
   "execution_count": 47,
   "metadata": {},
   "outputs": [],
   "source": [
    "from keras.models import Sequential\n",
    "models = Sequential()"
   ]
  },
  {
   "cell_type": "code",
   "execution_count": 48,
   "metadata": {},
   "outputs": [],
   "source": [
    "from keras.layers import Dense, Activation, Conv2D, MaxPooling2D, Flatten, Dropout\n",
    "models.add(Conv2D(32, (5,5), activation='relu', input_shape = (28,28,1)))"
   ]
  },
  {
   "cell_type": "code",
   "execution_count": 49,
   "metadata": {},
   "outputs": [],
   "source": [
    "models.add(MaxPooling2D(pool_size=(2,2)))"
   ]
  },
  {
   "cell_type": "code",
   "execution_count": 50,
   "metadata": {},
   "outputs": [],
   "source": [
    "models.add(Conv2D(64, (5,5), activation='relu'))"
   ]
  },
  {
   "cell_type": "code",
   "execution_count": 51,
   "metadata": {},
   "outputs": [],
   "source": [
    "models.add(MaxPooling2D(pool_size=(2,2)))"
   ]
  },
  {
   "cell_type": "code",
   "execution_count": 52,
   "metadata": {},
   "outputs": [],
   "source": [
    "models.add(Dropout(0.25))\n",
    "models.add(Flatten())"
   ]
  },
  {
   "cell_type": "code",
   "execution_count": 53,
   "metadata": {},
   "outputs": [],
   "source": [
    "models.add(Dense(512, activation='relu'))\n",
    "models.add(Dropout(0.5))"
   ]
  },
  {
   "cell_type": "code",
   "execution_count": 54,
   "metadata": {},
   "outputs": [],
   "source": [
    "models.add(Dense(10, activation='softmax'))"
   ]
  },
  {
   "cell_type": "code",
   "execution_count": 55,
   "metadata": {},
   "outputs": [],
   "source": [
    "from keras.optimizers import SGD\n",
    "sgd = SGD(lr=0.01, decay=1e-6, momentum=0.9, nesterov=True)\n",
    "models.compile(loss='categorical_crossentropy', optimizer=sgd, metrics=['accuracy'])"
   ]
  },
  {
   "cell_type": "code",
   "execution_count": 56,
   "metadata": {},
   "outputs": [
    {
     "name": "stdout",
     "output_type": "stream",
     "text": [
      "Extracting MNIST_data/train-images-idx3-ubyte.gz\n",
      "Extracting MNIST_data/train-labels-idx1-ubyte.gz\n",
      "Extracting MNIST_data/t10k-images-idx3-ubyte.gz\n",
      "Extracting MNIST_data/t10k-labels-idx1-ubyte.gz\n"
     ]
    }
   ],
   "source": [
    "from tensorflow.examples.tutorials.mnist import input_data\n",
    "\n",
    "mnist = input_data.read_data_sets('MNIST_data/', one_hot=True)"
   ]
  },
  {
   "cell_type": "code",
   "execution_count": 57,
   "metadata": {},
   "outputs": [],
   "source": [
    "x_train = mnist.train.images\n",
    "y_train = mnist.train.labels\n",
    "x_val = mnist.validation.images\n",
    "y_val = mnist.validation.labels"
   ]
  },
  {
   "cell_type": "code",
   "execution_count": 58,
   "metadata": {},
   "outputs": [],
   "source": [
    "x_train = x_train.reshape(-1, 28, 28,1)\n",
    "x_val = x_val.reshape(-1,28,28,1)"
   ]
  },
  {
   "cell_type": "code",
   "execution_count": 59,
   "metadata": {},
   "outputs": [
    {
     "name": "stdout",
     "output_type": "stream",
     "text": [
      "Train on 55000 samples, validate on 5000 samples\n",
      "Epoch 1/10\n",
      "55000/55000 [==============================] - 36s 661us/step - loss: 0.3750 - acc: 0.8803 - val_loss: 0.0794 - val_acc: 0.9762\n",
      "Epoch 2/10\n",
      "55000/55000 [==============================] - 37s 675us/step - loss: 0.1108 - acc: 0.9655 - val_loss: 0.0558 - val_acc: 0.9818\n",
      "Epoch 3/10\n",
      "55000/55000 [==============================] - 41s 750us/step - loss: 0.0776 - acc: 0.9760 - val_loss: 0.0499 - val_acc: 0.9844\n",
      "Epoch 4/10\n",
      "55000/55000 [==============================] - 33s 607us/step - loss: 0.0657 - acc: 0.9796 - val_loss: 0.0406 - val_acc: 0.9876\n",
      "Epoch 5/10\n",
      "55000/55000 [==============================] - 33s 607us/step - loss: 0.0574 - acc: 0.9820 - val_loss: 0.0424 - val_acc: 0.9864\n",
      "Epoch 6/10\n",
      "55000/55000 [==============================] - 34s 612us/step - loss: 0.0497 - acc: 0.9846 - val_loss: 0.0343 - val_acc: 0.9902\n",
      "Epoch 7/10\n",
      "55000/55000 [==============================] - 33s 605us/step - loss: 0.0454 - acc: 0.9854 - val_loss: 0.0336 - val_acc: 0.9908\n",
      "Epoch 8/10\n",
      "55000/55000 [==============================] - 33s 605us/step - loss: 0.0420 - acc: 0.9869 - val_loss: 0.0317 - val_acc: 0.9912\n",
      "Epoch 9/10\n",
      "55000/55000 [==============================] - 33s 604us/step - loss: 0.0380 - acc: 0.9885 - val_loss: 0.0307 - val_acc: 0.9914\n",
      "Epoch 10/10\n",
      "55000/55000 [==============================] - 34s 610us/step - loss: 0.0324 - acc: 0.9893 - val_loss: 0.0285 - val_acc: 0.9916\n"
     ]
    },
    {
     "data": {
      "text/plain": [
       "<keras.callbacks.History at 0x124732cc0>"
      ]
     },
     "execution_count": 59,
     "metadata": {},
     "output_type": "execute_result"
    }
   ],
   "source": [
    "models.fit(x=x_train, y=y_train, batch_size = 100, epochs = 10, shuffle=True, validation_data=(x_val, y_val))"
   ]
  },
  {
   "cell_type": "code",
   "execution_count": null,
   "metadata": {},
   "outputs": [],
   "source": []
  }
 ],
 "metadata": {
  "kernelspec": {
   "display_name": "Python 3",
   "language": "python",
   "name": "python3"
  },
  "language_info": {
   "codemirror_mode": {
    "name": "ipython",
    "version": 3
   },
   "file_extension": ".py",
   "mimetype": "text/x-python",
   "name": "python",
   "nbconvert_exporter": "python",
   "pygments_lexer": "ipython3",
   "version": "3.6.2"
  }
 },
 "nbformat": 4,
 "nbformat_minor": 2
}
